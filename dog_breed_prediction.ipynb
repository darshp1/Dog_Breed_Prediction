{
 "cells": [
  {
   "cell_type": "code",
   "execution_count": 1,
   "metadata": {},
   "outputs": [],
   "source": [
    "import os\n",
    "import numpy as np\n",
    "import pandas as pd"
   ]
  },
  {
   "cell_type": "code",
   "execution_count": 2,
   "metadata": {},
   "outputs": [
    {
     "name": "stdout",
     "output_type": "stream",
     "text": [
      "Requirement already satisfied: keras.utils in c:\\users\\darsh\\anaconda3\\lib\\site-packages (1.0.13)\n",
      "Requirement already satisfied: Keras>=2.1.5 in c:\\users\\darsh\\anaconda3\\lib\\site-packages (from keras.utils) (2.4.3)\n",
      "Requirement already satisfied: h5py in c:\\users\\darsh\\anaconda3\\lib\\site-packages (from Keras>=2.1.5->keras.utils) (2.10.0)\n",
      "Requirement already satisfied: scipy>=0.14 in c:\\users\\darsh\\anaconda3\\lib\\site-packages (from Keras>=2.1.5->keras.utils) (1.5.2)\n",
      "Requirement already satisfied: pyyaml in c:\\users\\darsh\\anaconda3\\lib\\site-packages (from Keras>=2.1.5->keras.utils) (5.3.1)\n",
      "Requirement already satisfied: numpy>=1.9.1 in c:\\users\\darsh\\anaconda3\\lib\\site-packages (from Keras>=2.1.5->keras.utils) (1.19.2)\n",
      "Requirement already satisfied: six in c:\\users\\darsh\\anaconda3\\lib\\site-packages (from h5py->Keras>=2.1.5->keras.utils) (1.15.0)\n",
      "Note: you may need to restart the kernel to use updated packages.\n"
     ]
    }
   ],
   "source": [
    "pip install keras.utils"
   ]
  },
  {
   "cell_type": "code",
   "execution_count": 3,
   "metadata": {},
   "outputs": [
    {
     "name": "stdout",
     "output_type": "stream",
     "text": [
      "Requirement already satisfied: tensorflow in c:\\users\\darsh\\anaconda3\\lib\\site-packages (2.4.1)\n",
      "Requirement already satisfied: typing-extensions~=3.7.4 in c:\\users\\darsh\\anaconda3\\lib\\site-packages (from tensorflow) (3.7.4.3)\n",
      "Requirement already satisfied: protobuf>=3.9.2 in c:\\users\\darsh\\anaconda3\\lib\\site-packages (from tensorflow) (3.14.0)\n",
      "Requirement already satisfied: tensorboard~=2.4 in c:\\users\\darsh\\anaconda3\\lib\\site-packages (from tensorflow) (2.4.1)\n",
      "Requirement already satisfied: tensorflow-estimator<2.5.0,>=2.4.0 in c:\\users\\darsh\\anaconda3\\lib\\site-packages (from tensorflow) (2.4.0)\n",
      "Requirement already satisfied: opt-einsum~=3.3.0 in c:\\users\\darsh\\anaconda3\\lib\\site-packages (from tensorflow) (3.3.0)\n",
      "Requirement already satisfied: wheel~=0.35 in c:\\users\\darsh\\anaconda3\\lib\\site-packages (from tensorflow) (0.35.1)\n",
      "Requirement already satisfied: keras-preprocessing~=1.1.2 in c:\\users\\darsh\\anaconda3\\lib\\site-packages (from tensorflow) (1.1.2)\n",
      "Requirement already satisfied: astunparse~=1.6.3 in c:\\users\\darsh\\anaconda3\\lib\\site-packages (from tensorflow) (1.6.3)\n",
      "Requirement already satisfied: wrapt~=1.12.1 in c:\\users\\darsh\\anaconda3\\lib\\site-packages (from tensorflow) (1.12.1)\n",
      "Requirement already satisfied: h5py~=2.10.0 in c:\\users\\darsh\\anaconda3\\lib\\site-packages (from tensorflow) (2.10.0)\n",
      "Requirement already satisfied: termcolor~=1.1.0 in c:\\users\\darsh\\anaconda3\\lib\\site-packages (from tensorflow) (1.1.0)\n",
      "Requirement already satisfied: numpy~=1.19.2 in c:\\users\\darsh\\anaconda3\\lib\\site-packages (from tensorflow) (1.19.2)\n",
      "Requirement already satisfied: grpcio~=1.32.0 in c:\\users\\darsh\\anaconda3\\lib\\site-packages (from tensorflow) (1.32.0)\n",
      "Requirement already satisfied: google-pasta~=0.2 in c:\\users\\darsh\\anaconda3\\lib\\site-packages (from tensorflow) (0.2.0)\n",
      "Requirement already satisfied: six~=1.15.0 in c:\\users\\darsh\\anaconda3\\lib\\site-packages (from tensorflow) (1.15.0)\n",
      "Requirement already satisfied: absl-py~=0.10 in c:\\users\\darsh\\anaconda3\\lib\\site-packages (from tensorflow) (0.11.0)\n",
      "Requirement already satisfied: flatbuffers~=1.12.0 in c:\\users\\darsh\\anaconda3\\lib\\site-packages (from tensorflow) (1.12)\n",
      "Requirement already satisfied: gast==0.3.3 in c:\\users\\darsh\\anaconda3\\lib\\site-packages (from tensorflow) (0.3.3)\n",
      "Requirement already satisfied: google-auth<2,>=1.6.3 in c:\\users\\darsh\\anaconda3\\lib\\site-packages (from tensorboard~=2.4->tensorflow) (1.24.0)\n",
      "Requirement already satisfied: requests<3,>=2.21.0 in c:\\users\\darsh\\anaconda3\\lib\\site-packages (from tensorboard~=2.4->tensorflow) (2.24.0)\n",
      "Requirement already satisfied: werkzeug>=0.11.15 in c:\\users\\darsh\\anaconda3\\lib\\site-packages (from tensorboard~=2.4->tensorflow) (1.0.1)\n",
      "Requirement already satisfied: setuptools>=41.0.0 in c:\\users\\darsh\\anaconda3\\lib\\site-packages (from tensorboard~=2.4->tensorflow) (50.3.1.post20201107)\n",
      "Requirement already satisfied: tensorboard-plugin-wit>=1.6.0 in c:\\users\\darsh\\anaconda3\\lib\\site-packages (from tensorboard~=2.4->tensorflow) (1.8.0)\n",
      "Requirement already satisfied: google-auth-oauthlib<0.5,>=0.4.1 in c:\\users\\darsh\\anaconda3\\lib\\site-packages (from tensorboard~=2.4->tensorflow) (0.4.2)\n",
      "Requirement already satisfied: markdown>=2.6.8 in c:\\users\\darsh\\anaconda3\\lib\\site-packages (from tensorboard~=2.4->tensorflow) (3.3.3)\n",
      "Requirement already satisfied: rsa<5,>=3.1.4; python_version >= \"3.6\" in c:\\users\\darsh\\anaconda3\\lib\\site-packages (from google-auth<2,>=1.6.3->tensorboard~=2.4->tensorflow) (4.7)\n",
      "Requirement already satisfied: cachetools<5.0,>=2.0.0 in c:\\users\\darsh\\anaconda3\\lib\\site-packages (from google-auth<2,>=1.6.3->tensorboard~=2.4->tensorflow) (4.2.1)\n",
      "Requirement already satisfied: pyasn1-modules>=0.2.1 in c:\\users\\darsh\\anaconda3\\lib\\site-packages (from google-auth<2,>=1.6.3->tensorboard~=2.4->tensorflow) (0.2.8)\n",
      "Requirement already satisfied: idna<3,>=2.5 in c:\\users\\darsh\\anaconda3\\lib\\site-packages (from requests<3,>=2.21.0->tensorboard~=2.4->tensorflow) (2.10)\n",
      "Requirement already satisfied: chardet<4,>=3.0.2 in c:\\users\\darsh\\anaconda3\\lib\\site-packages (from requests<3,>=2.21.0->tensorboard~=2.4->tensorflow) (3.0.4)\n",
      "Requirement already satisfied: urllib3!=1.25.0,!=1.25.1,<1.26,>=1.21.1 in c:\\users\\darsh\\anaconda3\\lib\\site-packages (from requests<3,>=2.21.0->tensorboard~=2.4->tensorflow) (1.25.11)\n",
      "Requirement already satisfied: certifi>=2017.4.17 in c:\\users\\darsh\\anaconda3\\lib\\site-packages (from requests<3,>=2.21.0->tensorboard~=2.4->tensorflow) (2020.6.20)Note: you may need to restart the kernel to use updated packages.\n",
      "Requirement already satisfied: requests-oauthlib>=0.7.0 in c:\\users\\darsh\\anaconda3\\lib\\site-packages (from google-auth-oauthlib<0.5,>=0.4.1->tensorboard~=2.4->tensorflow) (1.3.0)\n",
      "Requirement already satisfied: pyasn1>=0.1.3 in c:\\users\\darsh\\anaconda3\\lib\\site-packages (from rsa<5,>=3.1.4; python_version >= \"3.6\"->google-auth<2,>=1.6.3->tensorboard~=2.4->tensorflow) (0.4.8)\n",
      "Requirement already satisfied: oauthlib>=3.0.0 in c:\\users\\darsh\\anaconda3\\lib\\site-packages (from requests-oauthlib>=0.7.0->google-auth-oauthlib<0.5,>=0.4.1->tensorboard~=2.4->tensorflow) (3.1.0)\n",
      "\n"
     ]
    }
   ],
   "source": [
    "pip install tensorflow"
   ]
  },
  {
   "cell_type": "code",
   "execution_count": 2,
   "metadata": {},
   "outputs": [
    {
     "name": "stdout",
     "output_type": "stream",
     "text": [
      "darsh\n"
     ]
    }
   ],
   "source": [
    "print(\"darsh\")"
   ]
  },
  {
   "cell_type": "code",
   "execution_count": 3,
   "metadata": {},
   "outputs": [],
   "source": [
    "from keras.utils import np_utils\n",
    "from sklearn.preprocessing import LabelEncoder"
   ]
  },
  {
   "cell_type": "code",
   "execution_count": 4,
   "metadata": {},
   "outputs": [],
   "source": [
    "from keras.applications.resnet50 import preprocess_input\n",
    "from keras.preprocessing.image import load_img\n",
    "from keras.preprocessing.image import img_to_array\n",
    "from keras.applications import imagenet_utils"
   ]
  },
  {
   "cell_type": "code",
   "execution_count": 5,
   "metadata": {},
   "outputs": [],
   "source": [
    "import matplotlib.pyplot as plt\n",
    "%matplotlib inline"
   ]
  },
  {
   "cell_type": "code",
   "execution_count": 6,
   "metadata": {},
   "outputs": [],
   "source": [
    "from keras.callbacks import EarlyStopping"
   ]
  },
  {
   "cell_type": "code",
   "execution_count": 7,
   "metadata": {},
   "outputs": [],
   "source": [
    "base_dir ='.'\n",
    "data_dir=os.path.join(base_dir,'train')\n",
    "files=os.listdir(data_dir)"
   ]
  },
  {
   "cell_type": "code",
   "execution_count": 8,
   "metadata": {},
   "outputs": [
    {
     "data": {
      "text/html": [
       "<div>\n",
       "<style scoped>\n",
       "    .dataframe tbody tr th:only-of-type {\n",
       "        vertical-align: middle;\n",
       "    }\n",
       "\n",
       "    .dataframe tbody tr th {\n",
       "        vertical-align: top;\n",
       "    }\n",
       "\n",
       "    .dataframe thead th {\n",
       "        text-align: right;\n",
       "    }\n",
       "</style>\n",
       "<table border=\"1\" class=\"dataframe\">\n",
       "  <thead>\n",
       "    <tr style=\"text-align: right;\">\n",
       "      <th></th>\n",
       "      <th>id</th>\n",
       "      <th>breed</th>\n",
       "    </tr>\n",
       "  </thead>\n",
       "  <tbody>\n",
       "    <tr>\n",
       "      <th>0</th>\n",
       "      <td>000bec180eb18c7604dcecc8fe0dba07</td>\n",
       "      <td>boston_bull</td>\n",
       "    </tr>\n",
       "    <tr>\n",
       "      <th>1</th>\n",
       "      <td>001513dfcb2ffafc82cccf4d8bbaba97</td>\n",
       "      <td>dingo</td>\n",
       "    </tr>\n",
       "    <tr>\n",
       "      <th>2</th>\n",
       "      <td>001cdf01b096e06d78e9e5112d419397</td>\n",
       "      <td>pekinese</td>\n",
       "    </tr>\n",
       "    <tr>\n",
       "      <th>3</th>\n",
       "      <td>00214f311d5d2247d5dfe4fe24b2303d</td>\n",
       "      <td>bluetick</td>\n",
       "    </tr>\n",
       "    <tr>\n",
       "      <th>4</th>\n",
       "      <td>0021f9ceb3235effd7fcde7f7538ed62</td>\n",
       "      <td>golden_retriever</td>\n",
       "    </tr>\n",
       "  </tbody>\n",
       "</table>\n",
       "</div>"
      ],
      "text/plain": [
       "                                 id             breed\n",
       "0  000bec180eb18c7604dcecc8fe0dba07       boston_bull\n",
       "1  001513dfcb2ffafc82cccf4d8bbaba97             dingo\n",
       "2  001cdf01b096e06d78e9e5112d419397          pekinese\n",
       "3  00214f311d5d2247d5dfe4fe24b2303d          bluetick\n",
       "4  0021f9ceb3235effd7fcde7f7538ed62  golden_retriever"
      ]
     },
     "execution_count": 8,
     "metadata": {},
     "output_type": "execute_result"
    }
   ],
   "source": [
    "l1=pd.read_csv('labels.csv')\n",
    "l1.head()"
   ]
  },
  {
   "cell_type": "code",
   "execution_count": 9,
   "metadata": {},
   "outputs": [
    {
     "data": {
      "text/html": [
       "<div>\n",
       "<style scoped>\n",
       "    .dataframe tbody tr th:only-of-type {\n",
       "        vertical-align: middle;\n",
       "    }\n",
       "\n",
       "    .dataframe tbody tr th {\n",
       "        vertical-align: top;\n",
       "    }\n",
       "\n",
       "    .dataframe thead th {\n",
       "        text-align: right;\n",
       "    }\n",
       "</style>\n",
       "<table border=\"1\" class=\"dataframe\">\n",
       "  <thead>\n",
       "    <tr style=\"text-align: right;\">\n",
       "      <th></th>\n",
       "      <th>id</th>\n",
       "    </tr>\n",
       "  </thead>\n",
       "  <tbody>\n",
       "    <tr>\n",
       "      <th>0</th>\n",
       "      <td>000bec180eb18c7604dcecc8fe0dba07</td>\n",
       "    </tr>\n",
       "    <tr>\n",
       "      <th>1</th>\n",
       "      <td>001513dfcb2ffafc82cccf4d8bbaba97</td>\n",
       "    </tr>\n",
       "    <tr>\n",
       "      <th>2</th>\n",
       "      <td>001cdf01b096e06d78e9e5112d419397</td>\n",
       "    </tr>\n",
       "    <tr>\n",
       "      <th>3</th>\n",
       "      <td>00214f311d5d2247d5dfe4fe24b2303d</td>\n",
       "    </tr>\n",
       "    <tr>\n",
       "      <th>4</th>\n",
       "      <td>0021f9ceb3235effd7fcde7f7538ed62</td>\n",
       "    </tr>\n",
       "  </tbody>\n",
       "</table>\n",
       "</div>"
      ],
      "text/plain": [
       "                                 id\n",
       "0  000bec180eb18c7604dcecc8fe0dba07\n",
       "1  001513dfcb2ffafc82cccf4d8bbaba97\n",
       "2  001cdf01b096e06d78e9e5112d419397\n",
       "3  00214f311d5d2247d5dfe4fe24b2303d\n",
       "4  0021f9ceb3235effd7fcde7f7538ed62"
      ]
     },
     "execution_count": 9,
     "metadata": {},
     "output_type": "execute_result"
    }
   ],
   "source": [
    "fd=pd.DataFrame({'id':list(map(lambda x:x.replace('.jpg',''),files))})\n",
    "fd.head()"
   ]
  },
  {
   "cell_type": "code",
   "execution_count": 10,
   "metadata": {},
   "outputs": [
    {
     "data": {
      "text/html": [
       "<div>\n",
       "<style scoped>\n",
       "    .dataframe tbody tr th:only-of-type {\n",
       "        vertical-align: middle;\n",
       "    }\n",
       "\n",
       "    .dataframe tbody tr th {\n",
       "        vertical-align: top;\n",
       "    }\n",
       "\n",
       "    .dataframe thead th {\n",
       "        text-align: right;\n",
       "    }\n",
       "</style>\n",
       "<table border=\"1\" class=\"dataframe\">\n",
       "  <thead>\n",
       "    <tr style=\"text-align: right;\">\n",
       "      <th></th>\n",
       "      <th>id</th>\n",
       "      <th>breed</th>\n",
       "    </tr>\n",
       "  </thead>\n",
       "  <tbody>\n",
       "    <tr>\n",
       "      <th>0</th>\n",
       "      <td>000bec180eb18c7604dcecc8fe0dba07</td>\n",
       "      <td>boston_bull</td>\n",
       "    </tr>\n",
       "    <tr>\n",
       "      <th>1</th>\n",
       "      <td>001513dfcb2ffafc82cccf4d8bbaba97</td>\n",
       "      <td>dingo</td>\n",
       "    </tr>\n",
       "    <tr>\n",
       "      <th>2</th>\n",
       "      <td>001cdf01b096e06d78e9e5112d419397</td>\n",
       "      <td>pekinese</td>\n",
       "    </tr>\n",
       "    <tr>\n",
       "      <th>3</th>\n",
       "      <td>00214f311d5d2247d5dfe4fe24b2303d</td>\n",
       "      <td>bluetick</td>\n",
       "    </tr>\n",
       "    <tr>\n",
       "      <th>4</th>\n",
       "      <td>0021f9ceb3235effd7fcde7f7538ed62</td>\n",
       "      <td>golden_retriever</td>\n",
       "    </tr>\n",
       "  </tbody>\n",
       "</table>\n",
       "</div>"
      ],
      "text/plain": [
       "                                 id             breed\n",
       "0  000bec180eb18c7604dcecc8fe0dba07       boston_bull\n",
       "1  001513dfcb2ffafc82cccf4d8bbaba97             dingo\n",
       "2  001cdf01b096e06d78e9e5112d419397          pekinese\n",
       "3  00214f311d5d2247d5dfe4fe24b2303d          bluetick\n",
       "4  0021f9ceb3235effd7fcde7f7538ed62  golden_retriever"
      ]
     },
     "execution_count": 10,
     "metadata": {},
     "output_type": "execute_result"
    }
   ],
   "source": [
    "label_info = pd.merge(left=fd,right=l1)\n",
    "label_info.head()"
   ]
  },
  {
   "cell_type": "code",
   "execution_count": 11,
   "metadata": {},
   "outputs": [],
   "source": [
    "img = plt.imread(os.path.join(data_dir,files[1]))"
   ]
  },
  {
   "cell_type": "code",
   "execution_count": 12,
   "metadata": {},
   "outputs": [
    {
     "data": {
      "image/png": "[encoded data removed]",
      "text/plain": [
       "<Figure size 432x288 with 1 Axes>"
      ]
     },
     "metadata": {
      "needs_background": "light"
     },
     "output_type": "display_data"
    }
   ],
   "source": [
    "plt.imshow(img)\n",
    "plt.title(label_info.iloc[1]['breed'])\n",
    "plt.show()"
   ]
  },
  {
   "cell_type": "code",
   "execution_count": 13,
   "metadata": {},
   "outputs": [
    {
     "data": {
      "text/plain": [
       "120"
      ]
     },
     "execution_count": 13,
     "metadata": {},
     "output_type": "execute_result"
    }
   ],
   "source": [
    "num_classes = len(label_info.breed.unique())\n",
    "num_classes"
   ]
  },
  {
   "cell_type": "code",
   "execution_count": 14,
   "metadata": {},
   "outputs": [],
   "source": [
    "le=LabelEncoder()\n",
    "breed = le.fit_transform(label_info.breed)\n",
    "Y = np_utils.to_categorical(breed,num_classes=num_classes)"
   ]
  },
  {
   "cell_type": "code",
   "execution_count": 15,
   "metadata": {},
   "outputs": [
    {
     "data": {
      "text/plain": [
       "(10222, 120)"
      ]
     },
     "execution_count": 15,
     "metadata": {},
     "output_type": "execute_result"
    }
   ],
   "source": [
    "Y.shape"
   ]
  },
  {
   "cell_type": "code",
   "execution_count": 16,
   "metadata": {},
   "outputs": [],
   "source": [
    "input_dim =(170,170)\n",
    "X=np.zeros((Y.shape[0],*input_dim,3))\n",
    "for i,img in enumerate(files):\n",
    "\timage = load_img(os.path.join(data_dir,img),target_size=input_dim)\n",
    "\timage = img_to_array(image)\n",
    "\timage = image.reshape((1,*image.shape))\n",
    "\timage = preprocess_input(image)\n",
    "\tX[i] = image"
   ]
  },
  {
   "cell_type": "code",
   "execution_count": 17,
   "metadata": {},
   "outputs": [
    {
     "data": {
      "text/plain": [
       "(10222, 170, 170, 3)"
      ]
     },
     "execution_count": 17,
     "metadata": {},
     "output_type": "execute_result"
    }
   ],
   "source": [
    "X.shape"
   ]
  },
  {
   "cell_type": "code",
   "execution_count": 18,
   "metadata": {},
   "outputs": [],
   "source": [
    "earlystop = EarlyStopping(monitor='val_loss', min_delta=0 , patience =2 , verbose=0 , mode='auto')"
   ]
  },
  {
   "cell_type": "code",
   "execution_count": 19,
   "metadata": {},
   "outputs": [
    {
     "name": "stdout",
     "output_type": "stream",
     "text": [
      "Model: \"model\"\n",
      "_________________________________________________________________\n",
      "Layer (type)                 Output Shape              Param #   \n",
      "=================================================================\n",
      "input_1 (InputLayer)         [(None, None, None, 3)]   0         \n",
      "_________________________________________________________________\n",
      "block1_conv1 (Conv2D)        (None, None, None, 64)    1792      \n",
      "_________________________________________________________________\n",
      "block1_conv2 (Conv2D)        (None, None, None, 64)    36928     \n",
      "_________________________________________________________________\n",
      "block1_pool (MaxPooling2D)   (None, None, None, 64)    0         \n",
      "_________________________________________________________________\n",
      "block2_conv1 (Conv2D)        (None, None, None, 128)   73856     \n",
      "_________________________________________________________________\n",
      "block2_conv2 (Conv2D)        (None, None, None, 128)   147584    \n",
      "_________________________________________________________________\n",
      "block2_pool (MaxPooling2D)   (None, None, None, 128)   0         \n",
      "_________________________________________________________________\n",
      "block3_conv1 (Conv2D)        (None, None, None, 256)   295168    \n",
      "_________________________________________________________________\n",
      "block3_conv2 (Conv2D)        (None, None, None, 256)   590080    \n",
      "_________________________________________________________________\n",
      "block3_conv3 (Conv2D)        (None, None, None, 256)   590080    \n",
      "_________________________________________________________________\n",
      "block3_conv4 (Conv2D)        (None, None, None, 256)   590080    \n",
      "_________________________________________________________________\n",
      "block3_pool (MaxPooling2D)   (None, None, None, 256)   0         \n",
      "_________________________________________________________________\n",
      "block4_conv1 (Conv2D)        (None, None, None, 512)   1180160   \n",
      "_________________________________________________________________\n",
      "block4_conv2 (Conv2D)        (None, None, None, 512)   2359808   \n",
      "_________________________________________________________________\n",
      "block4_conv3 (Conv2D)        (None, None, None, 512)   2359808   \n",
      "_________________________________________________________________\n",
      "block4_conv4 (Conv2D)        (None, None, None, 512)   2359808   \n",
      "_________________________________________________________________\n",
      "block4_pool (MaxPooling2D)   (None, None, None, 512)   0         \n",
      "_________________________________________________________________\n",
      "block5_conv1 (Conv2D)        (None, None, None, 512)   2359808   \n",
      "_________________________________________________________________\n",
      "block5_conv2 (Conv2D)        (None, None, None, 512)   2359808   \n",
      "_________________________________________________________________\n",
      "block5_conv3 (Conv2D)        (None, None, None, 512)   2359808   \n",
      "_________________________________________________________________\n",
      "block5_conv4 (Conv2D)        (None, None, None, 512)   2359808   \n",
      "_________________________________________________________________\n",
      "block5_pool (MaxPooling2D)   (None, None, None, 512)   0         \n",
      "_________________________________________________________________\n",
      "global_average_pooling2d (Gl (None, 512)               0         \n",
      "_________________________________________________________________\n",
      "dropout (Dropout)            (None, 512)               0         \n",
      "_________________________________________________________________\n",
      "dense (Dense)                (None, 120)               61560     \n",
      "=================================================================\n",
      "Total params: 20,085,944\n",
      "Trainable params: 61,560\n",
      "Non-trainable params: 20,024,384\n",
      "_________________________________________________________________\n"
     ]
    }
   ],
   "source": [
    "from keras.applications.vgg19 import VGG19\n",
    "from keras.models import Model\n",
    "from keras.layers import Dense,GlobalAveragePooling2D ,Flatten ,Dropout\n",
    "vgg_model  = VGG19(weights='imagenet',include_top=False)\n",
    "x=vgg_model.output\n",
    "x=GlobalAveragePooling2D()(x)\n",
    "x=Dropout(0.2)(x)\n",
    "out=Dense(120,activation='softmax')(x)\n",
    "model = Model(inputs=vgg_model.input,outputs=out)\n",
    "\n",
    "for layer in vgg_model.layers:\n",
    "\tlayer.trainable = False\n",
    "\n",
    "from keras.optimizers import Adam\n",
    "opt=Adam()\n",
    "\n",
    "model.compile(optimizer=opt , loss='categorical_crossentropy',metrics=['accuracy'])\n",
    "model.summary()"
   ]
  },
  {
   "cell_type": "code",
   "execution_count": 19,
   "metadata": {},
   "outputs": [
    {
     "name": "stdout",
     "output_type": "stream",
     "text": [
      "Epoch 1/20\n",
      "45/45 - 554s - loss: 20.8823 - accuracy: 0.0318 - val_loss: 10.3170 - val_accuracy: 0.1040\n",
      "Epoch 2/20\n",
      "45/45 - 532s - loss: 10.5178 - accuracy: 0.1481 - val_loss: 6.1031 - val_accuracy: 0.2753\n",
      "Epoch 3/20\n",
      "45/45 - 532s - loss: 7.0672 - accuracy: 0.2787 - val_loss: 4.7657 - val_accuracy: 0.3835\n",
      "Epoch 4/20\n",
      "45/45 - 530s - loss: 5.3319 - accuracy: 0.3641 - val_loss: 4.1579 - val_accuracy: 0.4466\n",
      "Epoch 5/20\n",
      "45/45 - 528s - loss: 4.2243 - accuracy: 0.4536 - val_loss: 3.8881 - val_accuracy: 0.4676\n",
      "Epoch 6/20\n",
      "45/45 - 530s - loss: 3.7025 - accuracy: 0.4839 - val_loss: 3.6888 - val_accuracy: 0.4880\n",
      "Epoch 7/20\n",
      "45/45 - 528s - loss: 3.0884 - accuracy: 0.5384 - val_loss: 3.4713 - val_accuracy: 0.5148\n",
      "Epoch 8/20\n",
      "45/45 - 520s - loss: 2.7284 - accuracy: 0.5686 - val_loss: 3.3080 - val_accuracy: 0.5240\n",
      "Epoch 9/20\n",
      "45/45 - 516s - loss: 2.3288 - accuracy: 0.6088 - val_loss: 3.2776 - val_accuracy: 0.5260\n",
      "Epoch 10/20\n",
      "45/45 - 516s - loss: 2.0388 - accuracy: 0.6398 - val_loss: 3.2209 - val_accuracy: 0.5355\n",
      "Epoch 11/20\n",
      "45/45 - 514s - loss: 1.7446 - accuracy: 0.6641 - val_loss: 3.1463 - val_accuracy: 0.5439\n",
      "Epoch 12/20\n",
      "45/45 - 517s - loss: 1.5983 - accuracy: 0.6827 - val_loss: 3.1416 - val_accuracy: 0.5478\n",
      "Epoch 13/20\n",
      "45/45 - 516s - loss: 1.4897 - accuracy: 0.6997 - val_loss: 3.1158 - val_accuracy: 0.5470\n",
      "Epoch 14/20\n",
      "45/45 - 517s - loss: 1.3488 - accuracy: 0.7140 - val_loss: 3.1138 - val_accuracy: 0.5509\n",
      "Epoch 15/20\n",
      "45/45 - 515s - loss: 1.2542 - accuracy: 0.7259 - val_loss: 3.0816 - val_accuracy: 0.5542\n",
      "Epoch 16/20\n",
      "45/45 - 517s - loss: 1.0496 - accuracy: 0.7641 - val_loss: 3.0923 - val_accuracy: 0.5525\n",
      "Epoch 17/20\n",
      "45/45 - 523s - loss: 0.9738 - accuracy: 0.7697 - val_loss: 3.0774 - val_accuracy: 0.5534\n",
      "Epoch 18/20\n",
      "45/45 - 523s - loss: 0.9262 - accuracy: 0.7751 - val_loss: 3.0628 - val_accuracy: 0.5587\n",
      "Epoch 19/20\n",
      "45/45 - 521s - loss: 0.8200 - accuracy: 0.8039 - val_loss: 3.0456 - val_accuracy: 0.5688\n",
      "Epoch 20/20\n",
      "45/45 - 522s - loss: 0.7813 - accuracy: 0.8027 - val_loss: 3.0393 - val_accuracy: 0.5632\n"
     ]
    }
   ],
   "source": [
    "history_last_layer = model.fit(X,Y,batch_size=150,epochs=20,validation_split=0.35,verbose=2,callbacks=[earlystop])\n",
    "model.save('modellastlayer.h5')"
   ]
  },
  {
   "cell_type": "code",
   "execution_count": 20,
   "metadata": {},
   "outputs": [
    {
     "name": "stdout",
     "output_type": "stream",
     "text": [
      "darsh\n"
     ]
    }
   ],
   "source": [
    "print(\"darsh\")"
   ]
  },
  {
   "cell_type": "code",
   "execution_count": 21,
   "metadata": {},
   "outputs": [
    {
     "data": {
      "text/plain": [
       "dict_keys(['loss', 'accuracy', 'val_loss', 'val_accuracy'])"
      ]
     },
     "execution_count": 21,
     "metadata": {},
     "output_type": "execute_result"
    }
   ],
   "source": [
    "history_last_layer.history.keys()"
   ]
  },
  {
   "cell_type": "code",
   "execution_count": 22,
   "metadata": {},
   "outputs": [
    {
     "name": "stdout",
     "output_type": "stream",
     "text": [
      "18DIT045\n"
     ]
    }
   ],
   "source": [
    "print(\"18DIT045\")"
   ]
  },
  {
   "cell_type": "code",
   "execution_count": 34,
   "metadata": {},
   "outputs": [],
   "source": [
    "val_acc = history_last_layer.history.get('val_accuracy')"
   ]
  },
  {
   "cell_type": "code",
   "execution_count": 32,
   "metadata": {},
   "outputs": [],
   "source": [
    "acc = history_last_layer.history.get('accuracy')"
   ]
  },
  {
   "cell_type": "code",
   "execution_count": 35,
   "metadata": {},
   "outputs": [
    {
     "name": "stdout",
     "output_type": "stream",
     "text": [
      "[0.10396869480609894, 0.2752934694290161, 0.38345444202423096, 0.4466182291507721, 0.4675796627998352, 0.4879821240901947, 0.5148127675056458, 0.5240357518196106, 0.5259921550750732, 0.5354946851730347, 0.5438792705535889, 0.5477920770645142, 0.5469536185264587, 0.550866425037384, 0.5542202591896057, 0.5525433421134949, 0.5533818006515503, 0.5586919784545898, 0.5687534809112549, 0.5631637573242188]\n"
     ]
    }
   ],
   "source": [
    "print(val_acc)"
   ]
  },
  {
   "cell_type": "code",
   "execution_count": 36,
   "metadata": {},
   "outputs": [
    {
     "name": "stdout",
     "output_type": "stream",
     "text": [
      "[0.03175797685980797, 0.14810355007648468, 0.2787477374076843, 0.36408790946006775, 0.4536423981189728, 0.4838952422142029, 0.53838050365448, 0.5686333775520325, 0.6088199615478516, 0.6398254036903381, 0.6640577912330627, 0.6827212572097778, 0.6997290849685669, 0.7140277028083801, 0.7259181141853333, 0.7641481161117554, 0.7697170376777649, 0.7751354575157166, 0.8038831949234009, 0.8026791214942932]\n"
     ]
    }
   ],
   "source": [
    "print(acc)"
   ]
  },
  {
   "cell_type": "code",
   "execution_count": 37,
   "metadata": {},
   "outputs": [],
   "source": [
    "overfit_info =  pd.DataFrame({'acc':acc , 'val_acc':val_acc})"
   ]
  },
  {
   "cell_type": "code",
   "execution_count": 38,
   "metadata": {},
   "outputs": [
    {
     "data": {
      "text/plain": [
       "<AxesSubplot:>"
      ]
     },
     "execution_count": 38,
     "metadata": {},
     "output_type": "execute_result"
    },
    {
     "data": {
      "image/png": "[encoded data removed]",
      "text/plain": [
       "<Figure size 432x288 with 1 Axes>"
      ]
     },
     "metadata": {
      "needs_background": "light"
     },
     "output_type": "display_data"
    }
   ],
   "source": [
    "overfit_info.plot.line()"
   ]
  },
  {
   "cell_type": "code",
   "execution_count": 41,
   "metadata": {},
   "outputs": [],
   "source": [
    "image = load_img('x.jpg',target_size=input_dim)   # This is random image from google and it is of blutick dog\n",
    "image = img_to_array(image)\n",
    "image = image.reshape((1,*image.shape))\n",
    "image = preprocess_input(image)"
   ]
  },
  {
   "cell_type": "code",
   "execution_count": 43,
   "metadata": {},
   "outputs": [],
   "source": [
    "result=model.predict(image)"
   ]
  },
  {
   "cell_type": "code",
   "execution_count": 44,
   "metadata": {},
   "outputs": [
    {
     "data": {
      "text/plain": [
       "array([113,  42,  14,   5,  15], dtype=int64)"
      ]
     },
     "execution_count": 44,
     "metadata": {},
     "output_type": "execute_result"
    }
   ],
   "source": [
    "s= np.argsort(result)[0][-5:]\n",
    "s"
   ]
  },
  {
   "cell_type": "code",
   "execution_count": 47,
   "metadata": {},
   "outputs": [
    {
     "data": {
      "text/plain": [
       "array(['walker_hound', 'entlebucher', 'bloodhound', 'appenzeller',\n",
       "       'bluetick'], dtype=object)"
      ]
     },
     "execution_count": 47,
     "metadata": {},
     "output_type": "execute_result"
    }
   ],
   "source": [
    "d1=le.inverse_transform(s)\n",
    "d1"
   ]
  },
  {
   "cell_type": "code",
   "execution_count": 52,
   "metadata": {},
   "outputs": [
    {
     "name": "stdout",
     "output_type": "stream",
     "text": [
      "Your dog on prediction number  1  is: bluetick\n",
      "Your dog on prediction number  2  is: appenzeller\n",
      "Your dog on prediction number  3  is: bloodhound\n",
      "Your dog on prediction number  4  is: entlebucher\n",
      "Your dog on prediction number  5  is: walker_hound\n"
     ]
    }
   ],
   "source": [
    "d2=[ele for ele in reversed(d1)] \n",
    "k=1\n",
    "for x in d2:\n",
    "    print(\"Your dog on prediction number \",k,\" is:\",x)\n",
    "    k+=1"
   ]
  },
  {
   "cell_type": "code",
   "execution_count": 67,
   "metadata": {},
   "outputs": [],
   "source": [
    "image1 = load_img('z.jpg',target_size=input_dim)   # This is random image from google and it is of labrador dog\n",
    "image1 = img_to_array(image1)\n",
    "image1 = image.reshape((1,*image1.shape))\n",
    "image1 = preprocess_input(image1)"
   ]
  },
  {
   "cell_type": "code",
   "execution_count": 68,
   "metadata": {},
   "outputs": [],
   "source": [
    "result1=model.predict(image1)"
   ]
  },
  {
   "cell_type": "code",
   "execution_count": 69,
   "metadata": {},
   "outputs": [
    {
     "data": {
      "text/plain": [
       "array([ 41,   8,  47, 113,  15], dtype=int64)"
      ]
     },
     "execution_count": 69,
     "metadata": {},
     "output_type": "execute_result"
    }
   ],
   "source": [
    "s1= np.argsort(result1)[0][-5:]\n",
    "s1"
   ]
  },
  {
   "cell_type": "code",
   "execution_count": 70,
   "metadata": {},
   "outputs": [
    {
     "data": {
      "text/plain": [
       "array(['english_springer', 'basset', 'german_short-haired_pointer',\n",
       "       'walker_hound', 'bluetick'], dtype=object)"
      ]
     },
     "execution_count": 70,
     "metadata": {},
     "output_type": "execute_result"
    }
   ],
   "source": [
    "d3=le.inverse_transform(s1)\n",
    "d3"
   ]
  },
  {
   "cell_type": "code",
   "execution_count": 71,
   "metadata": {},
   "outputs": [
    {
     "name": "stdout",
     "output_type": "stream",
     "text": [
      "Your dog on prediction number  1  is: bluetick\n",
      "Your dog on prediction number  2  is: walker_hound\n",
      "Your dog on prediction number  3  is: german_short-haired_pointer\n",
      "Your dog on prediction number  4  is: basset\n",
      "Your dog on prediction number  5  is: english_springer\n"
     ]
    }
   ],
   "source": [
    "d4=[ele for ele in reversed(d3)] \n",
    "k=1\n",
    "for x in d4:\n",
    "    print(\"Your dog on prediction number \",k,\" is:\",x)\n",
    "    k+=1"
   ]
  },
  {
   "cell_type": "code",
   "execution_count": 80,
   "metadata": {},
   "outputs": [],
   "source": [
    "image2 = load_img('dhole.jpg',target_size=input_dim)   # This is random image from google and it is of dhole dog\n",
    "image2 = img_to_array(image2)\n",
    "image2 = image.reshape((1,*image2.shape))\n",
    "image2 = preprocess_input(image2)"
   ]
  },
  {
   "cell_type": "code",
   "execution_count": 81,
   "metadata": {},
   "outputs": [
    {
     "data": {
      "text/plain": [
       "array([114,  39,  47, 113,  15], dtype=int64)"
      ]
     },
     "execution_count": 81,
     "metadata": {},
     "output_type": "execute_result"
    }
   ],
   "source": [
    "result2=model.predict(image2)\n",
    "s2= np.argsort(result2)[0][-5:]\n",
    "s2"
   ]
  },
  {
   "cell_type": "code",
   "execution_count": 82,
   "metadata": {},
   "outputs": [
    {
     "name": "stdout",
     "output_type": "stream",
     "text": [
      "Your dog on prediction number  1  is: weimaraner\n",
      "Your dog on prediction number  2  is: english_foxhound\n",
      "Your dog on prediction number  3  is: german_short-haired_pointer\n",
      "Your dog on prediction number  4  is: walker_hound\n",
      "Your dog on prediction number  5  is: bluetick\n"
     ]
    }
   ],
   "source": [
    "d5=le.inverse_transform(s2)\n",
    "d6=[ele for ele in reversed(d5)] \n",
    "k=1\n",
    "for x in d5:\n",
    "    print(\"Your dog on prediction number \",k,\" is:\",x)\n",
    "    k+=1"
   ]
  },
  {
   "cell_type": "markdown",
   "metadata": {},
   "source": [
    "# Adding few more layer for training"
   ]
  },
  {
   "cell_type": "code",
   "execution_count": 23,
   "metadata": {},
   "outputs": [
    {
     "name": "stdout",
     "output_type": "stream",
     "text": [
      "Model: \"model\"\n",
      "_________________________________________________________________\n",
      "Layer (type)                 Output Shape              Param #   \n",
      "=================================================================\n",
      "input_1 (InputLayer)         [(None, None, None, 3)]   0         \n",
      "_________________________________________________________________\n",
      "block1_conv1 (Conv2D)        (None, None, None, 64)    1792      \n",
      "_________________________________________________________________\n",
      "block1_conv2 (Conv2D)        (None, None, None, 64)    36928     \n",
      "_________________________________________________________________\n",
      "block1_pool (MaxPooling2D)   (None, None, None, 64)    0         \n",
      "_________________________________________________________________\n",
      "block2_conv1 (Conv2D)        (None, None, None, 128)   73856     \n",
      "_________________________________________________________________\n",
      "block2_conv2 (Conv2D)        (None, None, None, 128)   147584    \n",
      "_________________________________________________________________\n",
      "block2_pool (MaxPooling2D)   (None, None, None, 128)   0         \n",
      "_________________________________________________________________\n",
      "block3_conv1 (Conv2D)        (None, None, None, 256)   295168    \n",
      "_________________________________________________________________\n",
      "block3_conv2 (Conv2D)        (None, None, None, 256)   590080    \n",
      "_________________________________________________________________\n",
      "block3_conv3 (Conv2D)        (None, None, None, 256)   590080    \n",
      "_________________________________________________________________\n",
      "block3_conv4 (Conv2D)        (None, None, None, 256)   590080    \n",
      "_________________________________________________________________\n",
      "block3_pool (MaxPooling2D)   (None, None, None, 256)   0         \n",
      "_________________________________________________________________\n",
      "block4_conv1 (Conv2D)        (None, None, None, 512)   1180160   \n",
      "_________________________________________________________________\n",
      "block4_conv2 (Conv2D)        (None, None, None, 512)   2359808   \n",
      "_________________________________________________________________\n",
      "block4_conv3 (Conv2D)        (None, None, None, 512)   2359808   \n",
      "_________________________________________________________________\n",
      "block4_conv4 (Conv2D)        (None, None, None, 512)   2359808   \n",
      "_________________________________________________________________\n",
      "block4_pool (MaxPooling2D)   (None, None, None, 512)   0         \n",
      "_________________________________________________________________\n",
      "block5_conv1 (Conv2D)        (None, None, None, 512)   2359808   \n",
      "_________________________________________________________________\n",
      "block5_conv2 (Conv2D)        (None, None, None, 512)   2359808   \n",
      "_________________________________________________________________\n",
      "block5_conv3 (Conv2D)        (None, None, None, 512)   2359808   \n",
      "_________________________________________________________________\n",
      "block5_conv4 (Conv2D)        (None, None, None, 512)   2359808   \n",
      "_________________________________________________________________\n",
      "block5_pool (MaxPooling2D)   (None, None, None, 512)   0         \n",
      "_________________________________________________________________\n",
      "global_average_pooling2d (Gl (None, 512)               0         \n",
      "_________________________________________________________________\n",
      "dropout (Dropout)            (None, 512)               0         \n",
      "_________________________________________________________________\n",
      "dense (Dense)                (None, 120)               61560     \n",
      "=================================================================\n",
      "Total params: 20,085,944\n",
      "Trainable params: 2,421,368\n",
      "Non-trainable params: 17,664,576\n",
      "_________________________________________________________________\n"
     ]
    }
   ],
   "source": [
    "from keras.applications.vgg19 import VGG19\n",
    "from keras.models import Model\n",
    "from keras.layers import Dense,GlobalAveragePooling2D ,Flatten ,Dropout\n",
    "vgg_model  = VGG19(weights='imagenet',include_top=False)\n",
    "x=vgg_model.output\n",
    "x=GlobalAveragePooling2D()(x)\n",
    "x=Dropout(0.25)(x)\n",
    "out=Dense(120,activation='softmax')(x)\n",
    "model_few_layers= Model(inputs=vgg_model.input,outputs=out)\n",
    "\n",
    "for layer in vgg_model.layers[:-2]:\n",
    "\tlayer.trainable = False\n",
    "    \n",
    "\n",
    "for layer in vgg_model.layers[-2:]:\n",
    "\tlayer.trainable = True\n",
    "    \n",
    "from keras.optimizers import Adam\n",
    "opt=Adam()\n",
    "\n",
    "model_few_layers.compile(optimizer=opt , loss='categorical_crossentropy',metrics=['accuracy'])\n",
    "model_few_layers.summary()"
   ]
  },
  {
   "cell_type": "code",
   "execution_count": 24,
   "metadata": {},
   "outputs": [
    {
     "name": "stdout",
     "output_type": "stream",
     "text": [
      "Epoch 1/20\n",
      "52/52 - 560s - loss: 6.9804 - accuracy: 0.0526 - val_loss: 3.9565 - val_accuracy: 0.1545\n",
      "Epoch 2/20\n",
      "52/52 - 545s - loss: 3.4968 - accuracy: 0.2151 - val_loss: 2.9219 - val_accuracy: 0.3208\n",
      "Epoch 3/20\n",
      "52/52 - 542s - loss: 2.4999 - accuracy: 0.3775 - val_loss: 2.3691 - val_accuracy: 0.4063\n",
      "Epoch 4/20\n",
      "52/52 - 542s - loss: 1.9367 - accuracy: 0.4874 - val_loss: 2.1716 - val_accuracy: 0.4346\n",
      "Epoch 5/20\n",
      "52/52 - 544s - loss: 1.4719 - accuracy: 0.5912 - val_loss: 2.1257 - val_accuracy: 0.4486\n",
      "Epoch 6/20\n",
      "52/52 - 547s - loss: 1.2301 - accuracy: 0.6453 - val_loss: 2.0337 - val_accuracy: 0.4695\n",
      "Epoch 7/20\n",
      "52/52 - 546s - loss: 0.9320 - accuracy: 0.7219 - val_loss: 2.0410 - val_accuracy: 0.4819\n",
      "Epoch 8/20\n",
      "52/52 - 545s - loss: 0.7863 - accuracy: 0.7632 - val_loss: 2.0789 - val_accuracy: 0.4865\n"
     ]
    }
   ],
   "source": [
    "history_last2_layer = model_few_layers.fit(X,Y,batch_size=140,epochs=20,validation_split=0.30,verbose=2,callbacks=[earlystop])\n",
    "model_few_layers.save('modelfewlayer.h5')"
   ]
  },
  {
   "cell_type": "code",
   "execution_count": 22,
   "metadata": {},
   "outputs": [],
   "source": [
    "from keras.models import load_model"
   ]
  },
  {
   "cell_type": "code",
   "execution_count": 25,
   "metadata": {},
   "outputs": [
    {
     "name": "stdout",
     "output_type": "stream",
     "text": [
      "18dit045\n"
     ]
    }
   ],
   "source": [
    "print(\"18dit045\")"
   ]
  },
  {
   "cell_type": "code",
   "execution_count": 28,
   "metadata": {},
   "outputs": [
    {
     "data": {
      "text/plain": [
       "dict_keys(['loss', 'accuracy', 'val_loss', 'val_accuracy'])"
      ]
     },
     "execution_count": 28,
     "metadata": {},
     "output_type": "execute_result"
    }
   ],
   "source": [
    "history_last2_layer.history.keys()"
   ]
  },
  {
   "cell_type": "code",
   "execution_count": 35,
   "metadata": {},
   "outputs": [],
   "source": [
    "val_acc = history_last2_layer.history.get('val_accuracy')"
   ]
  },
  {
   "cell_type": "code",
   "execution_count": 33,
   "metadata": {},
   "outputs": [],
   "source": [
    "acc = history_last2_layer.history.get('accuracy')"
   ]
  },
  {
   "cell_type": "code",
   "execution_count": 36,
   "metadata": {},
   "outputs": [],
   "source": [
    "overfit_info =  pd.DataFrame({'acc':acc , 'val_acc':val_acc})"
   ]
  },
  {
   "cell_type": "code",
   "execution_count": 37,
   "metadata": {},
   "outputs": [
    {
     "data": {
      "text/plain": [
       "<AxesSubplot:>"
      ]
     },
     "execution_count": 37,
     "metadata": {},
     "output_type": "execute_result"
    },
    {
     "data": {
      "image/png": "[encoded data removed]",
      "text/plain": [
       "<Figure size 432x288 with 1 Axes>"
      ]
     },
     "metadata": {
      "needs_background": "light"
     },
     "output_type": "display_data"
    }
   ],
   "source": [
    "overfit_info.plot.line()"
   ]
  },
  {
   "cell_type": "code",
   "execution_count": 44,
   "metadata": {},
   "outputs": [],
   "source": [
    "from keras.models import load_model\n",
    "from keras.preprocessing .image import ImageDataGenerator"
   ]
  },
  {
   "cell_type": "code",
   "execution_count": 45,
   "metadata": {},
   "outputs": [],
   "source": [
    "def validate(X,Y):\n",
    "    for x1 in ['modellastlayer.h5','modelfewlayer.h5','modellastlayer.h5']:\n",
    "        model = load_model(x1)\n",
    "        pred=model.predict(X)\n",
    "        top3=np.argsort(pred)[:,-3:]\n",
    "        actual=np.argmax(Y,axis=1)\n",
    "        res=top3-actual.reshape(-1,1)\n",
    "        ana=np.product(res,axis=1)\n",
    "        print(x1,np.sum(ana==0)/ana.shape[0])"
   ]
  },
  {
   "cell_type": "code",
   "execution_count": 46,
   "metadata": {},
   "outputs": [
    {
     "name": "stdout",
     "output_type": "stream",
     "text": [
      "modellastlayer.h5 0.8791234983218531\n",
      "modelfewlayer.h5 0.8431294253124035\n",
      "modellastlayer.h5 0.8947389929402049\n"
     ]
    }
   ],
   "source": [
    "validate(X,Y)"
   ]
  },
  {
   "cell_type": "code",
   "execution_count": 38,
   "metadata": {},
   "outputs": [],
   "source": [
    "image1 = load_img('z.jpg',target_size=input_dim)   # This is random image from google and it is of labrador dog\n",
    "image1 = img_to_array(image1)\n",
    "image1 = image.reshape((1,*image1.shape))\n",
    "image1 = preprocess_input(image1)"
   ]
  },
  {
   "cell_type": "code",
   "execution_count": 40,
   "metadata": {},
   "outputs": [],
   "source": [
    "result=model_few_layers.predict(image)"
   ]
  },
  {
   "cell_type": "code",
   "execution_count": 41,
   "metadata": {},
   "outputs": [
    {
     "data": {
      "text/plain": [
       "array([ 8, 47, 95, 63,  4], dtype=int64)"
      ]
     },
     "execution_count": 41,
     "metadata": {},
     "output_type": "execute_result"
    }
   ],
   "source": [
    "s= np.argsort(result)[0][-5:]\n",
    "s"
   ]
  },
  {
   "cell_type": "code",
   "execution_count": 42,
   "metadata": {},
   "outputs": [
    {
     "data": {
      "text/plain": [
       "array(['basset', 'german_short-haired_pointer', 'schipperke', 'kelpie',\n",
       "       'american_staffordshire_terrier'], dtype=object)"
      ]
     },
     "execution_count": 42,
     "metadata": {},
     "output_type": "execute_result"
    }
   ],
   "source": [
    "le.inverse_transform(s)"
   ]
  },
  {
   "cell_type": "code",
   "execution_count": null,
   "metadata": {},
   "outputs": [],
   "source": []
  },
  {
   "cell_type": "markdown",
   "metadata": {},
   "source": [
    "# Image augmentation"
   ]
  },
  {
   "cell_type": "code",
   "execution_count": 18,
   "metadata": {},
   "outputs": [],
   "source": [
    "from keras.preprocessing.image import ImageDataGenerator\n",
    "from keras.models import load_model"
   ]
  },
  {
   "cell_type": "code",
   "execution_count": 19,
   "metadata": {},
   "outputs": [],
   "source": [
    "datagen = ImageDataGenerator(\n",
    "\tfeaturewise_center=True,\n",
    "\tfeaturewise_std_normalization=True,\n",
    "\trotation_range=20,\n",
    "\twidth_shift_range=0.2,\n",
    "\theight_shift_range=0.2,\n",
    "\thorizontal_flip=True)"
   ]
  },
  {
   "cell_type": "code",
   "execution_count": 20,
   "metadata": {},
   "outputs": [],
   "source": [
    "datagen.fit(X)"
   ]
  },
  {
   "cell_type": "code",
   "execution_count": 26,
   "metadata": {},
   "outputs": [],
   "source": [
    "import itertools"
   ]
  },
  {
   "cell_type": "code",
   "execution_count": 21,
   "metadata": {},
   "outputs": [],
   "source": [
    "model = load_model('modellastlayer.h5')"
   ]
  },
  {
   "cell_type": "code",
   "execution_count": 22,
   "metadata": {},
   "outputs": [],
   "source": [
    "p1 = datagen.flow(X,Y,batch_size=140)\n",
    "                                                 "
   ]
  },
  {
   "cell_type": "code",
   "execution_count": null,
   "metadata": {},
   "outputs": [],
   "source": []
  },
  {
   "cell_type": "code",
   "execution_count": 31,
   "metadata": {},
   "outputs": [
    {
     "data": {
      "text/plain": [
       "numpy.ndarray"
      ]
     },
     "execution_count": 31,
     "metadata": {},
     "output_type": "execute_result"
    }
   ],
   "source": [
    "type(X)"
   ]
  },
  {
   "cell_type": "code",
   "execution_count": 44,
   "metadata": {},
   "outputs": [
    {
     "data": {
      "text/plain": [
       "74"
      ]
     },
     "execution_count": 44,
     "metadata": {},
     "output_type": "execute_result"
    }
   ],
   "source": [
    "'''X2=X\n",
    "input_dim =(170,170)\n",
    "X=np.zeros((Y.shape[0],*input_dim,3))\n",
    "for i,img in enumerate(p1):\n",
    "\timage = load_img(os.path.join(data_dir,img),target_size=input_dim)\n",
    "\timage = img_to_array(image)\n",
    "\timage = image.reshape((1,*image.shape))\n",
    "\timage = preprocess_input(image)\n",
    "\tX[i] = image'''"
   ]
  },
  {
   "cell_type": "code",
   "execution_count": 45,
   "metadata": {},
   "outputs": [
    {
     "name": "stdout",
     "output_type": "stream",
     "text": [
      "Epoch 1/10\n",
      "2/2 - 22s - loss: 3.8195 - accuracy: 0.3500\n",
      "Epoch 2/10\n",
      "2/2 - 21s - loss: 3.7864 - accuracy: 0.3405\n",
      "Epoch 3/10\n",
      "2/2 - 21s - loss: 3.7800 - accuracy: 0.3595\n",
      "Epoch 4/10\n",
      "2/2 - 21s - loss: 3.7863 - accuracy: 0.3476\n",
      "Epoch 5/10\n",
      "2/2 - 21s - loss: 3.7764 - accuracy: 0.3357\n",
      "Epoch 6/10\n",
      "2/2 - 21s - loss: 3.7921 - accuracy: 0.3262\n",
      "Epoch 7/10\n",
      "2/2 - 22s - loss: 3.7714 - accuracy: 0.3524\n",
      "Epoch 8/10\n",
      "2/2 - 21s - loss: 3.8338 - accuracy: 0.3357\n",
      "Epoch 9/10\n",
      "2/2 - 21s - loss: 3.7607 - accuracy: 0.3476\n",
      "Epoch 10/10\n",
      "2/2 - 21s - loss: 3.7817 - accuracy: 0.3190\n"
     ]
    }
   ],
   "source": [
    "history_aug_images=model.fit(p1,steps_per_epoch=len(p1)/30,epochs=10,verbose=2)\n",
    "#history_aug_images=model.fit(p1.repeat(),steps_per_epoch=len(X)/100,epochs=10,verbose=2)"
   ]
  },
  {
   "cell_type": "code",
   "execution_count": 46,
   "metadata": {},
   "outputs": [
    {
     "data": {
      "text/plain": [
       "dict_keys(['loss', 'accuracy'])"
      ]
     },
     "execution_count": 46,
     "metadata": {},
     "output_type": "execute_result"
    }
   ],
   "source": [
    "history_aug_images.history.keys()"
   ]
  },
  {
   "cell_type": "code",
   "execution_count": 47,
   "metadata": {},
   "outputs": [],
   "source": [
    "model.save('img_aug5.h5')"
   ]
  },
  {
   "cell_type": "code",
   "execution_count": 48,
   "metadata": {},
   "outputs": [],
   "source": [
    "image1 = load_img('z.jpg',target_size=input_dim)   # This is random image from google and it is of labrador dog\n",
    "image1 = img_to_array(image1)\n",
    "image1 = image.reshape((1,*image1.shape))\n",
    "image1 = preprocess_input(image1)"
   ]
  },
  {
   "cell_type": "code",
   "execution_count": 49,
   "metadata": {},
   "outputs": [],
   "source": [
    "res = model.predict(image)"
   ]
  },
  {
   "cell_type": "code",
   "execution_count": 50,
   "metadata": {},
   "outputs": [
    {
     "data": {
      "text/plain": [
       "array([ 6, 51, 19,  7, 28], dtype=int64)"
      ]
     },
     "execution_count": 50,
     "metadata": {},
     "output_type": "execute_result"
    }
   ],
   "source": [
    "s=np.argsort(res)[0][-5:]\n",
    "s"
   ]
  },
  {
   "cell_type": "code",
   "execution_count": 51,
   "metadata": {},
   "outputs": [
    {
     "data": {
      "text/plain": [
       "array(['australian_terrier', 'great_dane', 'boston_bull', 'basenji',\n",
       "       'chesapeake_bay_retriever'], dtype=object)"
      ]
     },
     "execution_count": 51,
     "metadata": {},
     "output_type": "execute_result"
    }
   ],
   "source": [
    "le.inverse_transform(s)"
   ]
  },
  {
   "cell_type": "code",
   "execution_count": 22,
   "metadata": {},
   "outputs": [],
   "source": [
    "from sklearn.model_selection import train_test_split"
   ]
  },
  {
   "cell_type": "code",
   "execution_count": 23,
   "metadata": {},
   "outputs": [],
   "source": [
    "trainX,testX,trainY,testY=train_test_split(X,Y)"
   ]
  },
  {
   "cell_type": "code",
   "execution_count": 24,
   "metadata": {},
   "outputs": [
    {
     "data": {
      "text/plain": [
       "(7666, 120)"
      ]
     },
     "execution_count": 24,
     "metadata": {},
     "output_type": "execute_result"
    }
   ],
   "source": [
    "trainY.shape"
   ]
  },
  {
   "cell_type": "code",
   "execution_count": 25,
   "metadata": {},
   "outputs": [],
   "source": [
    "from keras.applications.vgg19 import VGG19\n",
    "from keras.models import Model\n",
    "from keras.layers import Dense,GlobalAveragePooling2D ,Flatten ,Dropout\n",
    "vgg_model  = VGG19(weights='imagenet',include_top=False)\n",
    "x=vgg_model.output\n",
    "x=GlobalAveragePooling2D()(x)\n",
    "x=Dropout(0.2)(x)\n",
    "out=Dense(120,activation='softmax')(x)\n",
    "model_few1_layers= Model(inputs=vgg_model.input,outputs=out)\n",
    "for layer in vgg_model.layers[:-1]:\n",
    "\tlayer.trainable = False\n",
    "\n",
    "for layer in vgg_model.layers[-1:]:\n",
    "\tlayer.trainable = True\n"
   ]
  },
  {
   "cell_type": "code",
   "execution_count": 26,
   "metadata": {},
   "outputs": [],
   "source": [
    "from keras.optimizers import Adam\n",
    "opt=Adam()"
   ]
  },
  {
   "cell_type": "code",
   "execution_count": 27,
   "metadata": {},
   "outputs": [
    {
     "name": "stdout",
     "output_type": "stream",
     "text": [
      "Model: \"model\"\n",
      "_________________________________________________________________\n",
      "Layer (type)                 Output Shape              Param #   \n",
      "=================================================================\n",
      "input_1 (InputLayer)         [(None, None, None, 3)]   0         \n",
      "_________________________________________________________________\n",
      "block1_conv1 (Conv2D)        (None, None, None, 64)    1792      \n",
      "_________________________________________________________________\n",
      "block1_conv2 (Conv2D)        (None, None, None, 64)    36928     \n",
      "_________________________________________________________________\n",
      "block1_pool (MaxPooling2D)   (None, None, None, 64)    0         \n",
      "_________________________________________________________________\n",
      "block2_conv1 (Conv2D)        (None, None, None, 128)   73856     \n",
      "_________________________________________________________________\n",
      "block2_conv2 (Conv2D)        (None, None, None, 128)   147584    \n",
      "_________________________________________________________________\n",
      "block2_pool (MaxPooling2D)   (None, None, None, 128)   0         \n",
      "_________________________________________________________________\n",
      "block3_conv1 (Conv2D)        (None, None, None, 256)   295168    \n",
      "_________________________________________________________________\n",
      "block3_conv2 (Conv2D)        (None, None, None, 256)   590080    \n",
      "_________________________________________________________________\n",
      "block3_conv3 (Conv2D)        (None, None, None, 256)   590080    \n",
      "_________________________________________________________________\n",
      "block3_conv4 (Conv2D)        (None, None, None, 256)   590080    \n",
      "_________________________________________________________________\n",
      "block3_pool (MaxPooling2D)   (None, None, None, 256)   0         \n",
      "_________________________________________________________________\n",
      "block4_conv1 (Conv2D)        (None, None, None, 512)   1180160   \n",
      "_________________________________________________________________\n",
      "block4_conv2 (Conv2D)        (None, None, None, 512)   2359808   \n",
      "_________________________________________________________________\n",
      "block4_conv3 (Conv2D)        (None, None, None, 512)   2359808   \n",
      "_________________________________________________________________\n",
      "block4_conv4 (Conv2D)        (None, None, None, 512)   2359808   \n",
      "_________________________________________________________________\n",
      "block4_pool (MaxPooling2D)   (None, None, None, 512)   0         \n",
      "_________________________________________________________________\n",
      "block5_conv1 (Conv2D)        (None, None, None, 512)   2359808   \n",
      "_________________________________________________________________\n",
      "block5_conv2 (Conv2D)        (None, None, None, 512)   2359808   \n",
      "_________________________________________________________________\n",
      "block5_conv3 (Conv2D)        (None, None, None, 512)   2359808   \n",
      "_________________________________________________________________\n",
      "block5_conv4 (Conv2D)        (None, None, None, 512)   2359808   \n",
      "_________________________________________________________________\n",
      "block5_pool (MaxPooling2D)   (None, None, None, 512)   0         \n",
      "_________________________________________________________________\n",
      "global_average_pooling2d (Gl (None, 512)               0         \n",
      "_________________________________________________________________\n",
      "dropout (Dropout)            (None, 512)               0         \n",
      "_________________________________________________________________\n",
      "dense (Dense)                (None, 120)               61560     \n",
      "=================================================================\n",
      "Total params: 20,085,944\n",
      "Trainable params: 61,560\n",
      "Non-trainable params: 20,024,384\n",
      "_________________________________________________________________\n"
     ]
    }
   ],
   "source": [
    "model_few1_layers.compile(optimizer=opt , loss='categorical_crossentropy',metrics=['accuracy'])\n",
    "model_few1_layers.summary()"
   ]
  },
  {
   "cell_type": "code",
   "execution_count": 28,
   "metadata": {},
   "outputs": [],
   "source": [
    "datagen.fit(trainX)\n"
   ]
  },
  {
   "cell_type": "code",
   "execution_count": null,
   "metadata": {},
   "outputs": [
    {
     "name": "stdout",
     "output_type": "stream",
     "text": [
      "Epoch 1/10\n"
     ]
    }
   ],
   "source": [
    "history_aug_images = model_few1_layers.fit(datagen.flow(trainX,trainY,batch_size=140),steps_per_epoch=len(X)/20,epochs=10,verbose=2)\n",
    "model_few1_layers.save('model.aug1_layer.h5')"
   ]
  },
  {
   "cell_type": "code",
   "execution_count": null,
   "metadata": {},
   "outputs": [],
   "source": []
  },
  {
   "cell_type": "code",
   "execution_count": 18,
   "metadata": {},
   "outputs": [
    {
     "name": "stdout",
     "output_type": "stream",
     "text": [
      "Model: \"model\"\n",
      "_________________________________________________________________\n",
      "Layer (type)                 Output Shape              Param #   \n",
      "=================================================================\n",
      "input_1 (InputLayer)         [(None, None, None, 3)]   0         \n",
      "_________________________________________________________________\n",
      "block1_conv1 (Conv2D)        (None, None, None, 64)    1792      \n",
      "_________________________________________________________________\n",
      "block1_conv2 (Conv2D)        (None, None, None, 64)    36928     \n",
      "_________________________________________________________________\n",
      "block1_pool (MaxPooling2D)   (None, None, None, 64)    0         \n",
      "_________________________________________________________________\n",
      "block2_conv1 (Conv2D)        (None, None, None, 128)   73856     \n",
      "_________________________________________________________________\n",
      "block2_conv2 (Conv2D)        (None, None, None, 128)   147584    \n",
      "_________________________________________________________________\n",
      "block2_pool (MaxPooling2D)   (None, None, None, 128)   0         \n",
      "_________________________________________________________________\n",
      "block3_conv1 (Conv2D)        (None, None, None, 256)   295168    \n",
      "_________________________________________________________________\n",
      "block3_conv2 (Conv2D)        (None, None, None, 256)   590080    \n",
      "_________________________________________________________________\n",
      "block3_conv3 (Conv2D)        (None, None, None, 256)   590080    \n",
      "_________________________________________________________________\n",
      "block3_conv4 (Conv2D)        (None, None, None, 256)   590080    \n",
      "_________________________________________________________________\n",
      "block3_pool (MaxPooling2D)   (None, None, None, 256)   0         \n",
      "_________________________________________________________________\n",
      "block4_conv1 (Conv2D)        (None, None, None, 512)   1180160   \n",
      "_________________________________________________________________\n",
      "block4_conv2 (Conv2D)        (None, None, None, 512)   2359808   \n",
      "_________________________________________________________________\n",
      "block4_conv3 (Conv2D)        (None, None, None, 512)   2359808   \n",
      "_________________________________________________________________\n",
      "block4_conv4 (Conv2D)        (None, None, None, 512)   2359808   \n",
      "_________________________________________________________________\n",
      "block4_pool (MaxPooling2D)   (None, None, None, 512)   0         \n",
      "_________________________________________________________________\n",
      "block5_conv1 (Conv2D)        (None, None, None, 512)   2359808   \n",
      "_________________________________________________________________\n",
      "block5_conv2 (Conv2D)        (None, None, None, 512)   2359808   \n",
      "_________________________________________________________________\n",
      "block5_conv3 (Conv2D)        (None, None, None, 512)   2359808   \n",
      "_________________________________________________________________\n",
      "block5_conv4 (Conv2D)        (None, None, None, 512)   2359808   \n",
      "_________________________________________________________________\n",
      "block5_pool (MaxPooling2D)   (None, None, None, 512)   0         \n",
      "_________________________________________________________________\n",
      "global_average_pooling2d (Gl (None, 512)               0         \n",
      "_________________________________________________________________\n",
      "dropout (Dropout)            (None, 512)               0         \n",
      "_________________________________________________________________\n",
      "dense (Dense)                (None, 120)               61560     \n",
      "=================================================================\n",
      "Total params: 20,085,944\n",
      "Trainable params: 2,421,368\n",
      "Non-trainable params: 17,664,576\n",
      "_________________________________________________________________\n"
     ]
    }
   ],
   "source": [
    "from keras.applications.vgg19 import VGG19\n",
    "from keras.models import Model\n",
    "from keras.layers import Dense,GlobalAveragePooling2D ,Flatten ,Dropout\n",
    "vgg_model  = VGG19(weights='imagenet',include_top=False)\n",
    "x=vgg_model.output\n",
    "x=GlobalAveragePooling2D()(x)\n",
    "x=Dropout(0.25)(x)\n",
    "out=Dense(120,activation='softmax')(x)\n",
    "model_few2_layers= Model(inputs=vgg_model.input,outputs=out)\n",
    "\n",
    "for layer in vgg_model.layers[:-2]:\n",
    "\tlayer.trainable = False\n",
    "    \n",
    "\n",
    "for layer in vgg_model.layers[-2:]:\n",
    "\tlayer.trainable = True\n",
    "    \n",
    "from keras.optimizers import Adam\n",
    "opt=Adam()\n",
    "\n",
    "model_few2_layers.compile(optimizer=opt , loss='categorical_crossentropy',metrics=['accuracy'])\n",
    "model_few2_layers.summary()"
   ]
  },
  {
   "cell_type": "code",
   "execution_count": 20,
   "metadata": {},
   "outputs": [
    {
     "name": "stdout",
     "output_type": "stream",
     "text": [
      "Epoch 1/15\n",
      "52/52 - 567s - loss: 6.5912 - accuracy: 0.0654 - val_loss: 3.8529 - val_accuracy: 0.1594\n",
      "Epoch 2/15\n",
      "52/52 - 557s - loss: 3.3555 - accuracy: 0.2326 - val_loss: 2.8611 - val_accuracy: 0.3091\n",
      "Epoch 3/15\n",
      "52/52 - 555s - loss: 2.4154 - accuracy: 0.3954 - val_loss: 2.3639 - val_accuracy: 0.3978\n",
      "Epoch 4/15\n",
      "52/52 - 556s - loss: 1.8422 - accuracy: 0.4981 - val_loss: 2.1869 - val_accuracy: 0.4336\n",
      "Epoch 5/15\n",
      "52/52 - 556s - loss: 1.4220 - accuracy: 0.5979 - val_loss: 2.0260 - val_accuracy: 0.4806\n",
      "Epoch 6/15\n",
      "52/52 - 555s - loss: 1.1047 - accuracy: 0.6783 - val_loss: 2.0201 - val_accuracy: 0.4858\n",
      "Epoch 7/15\n",
      "52/52 - 554s - loss: 0.8663 - accuracy: 0.7426 - val_loss: 2.0161 - val_accuracy: 0.4985\n",
      "Epoch 8/15\n",
      "52/52 - 555s - loss: 0.6685 - accuracy: 0.8066 - val_loss: 2.0633 - val_accuracy: 0.4842\n",
      "Epoch 9/15\n",
      "52/52 - 556s - loss: 0.5451 - accuracy: 0.8309 - val_loss: 2.1102 - val_accuracy: 0.5015\n",
      "Epoch 10/15\n",
      "52/52 - 556s - loss: 0.4250 - accuracy: 0.8668 - val_loss: 2.1647 - val_accuracy: 0.4914\n",
      "Epoch 11/15\n",
      "52/52 - 556s - loss: 0.3842 - accuracy: 0.8846 - val_loss: 2.1760 - val_accuracy: 0.5116\n",
      "Epoch 12/15\n",
      "52/52 - 557s - loss: 0.3015 - accuracy: 0.9117 - val_loss: 2.2249 - val_accuracy: 0.5044\n",
      "Epoch 13/15\n",
      "52/52 - 556s - loss: 0.2695 - accuracy: 0.9138 - val_loss: 2.3098 - val_accuracy: 0.5070\n",
      "Epoch 14/15\n",
      "52/52 - 556s - loss: 0.2912 - accuracy: 0.9089 - val_loss: 2.3131 - val_accuracy: 0.5096\n",
      "Epoch 15/15\n",
      "52/52 - 564s - loss: 0.2213 - accuracy: 0.9332 - val_loss: 2.3380 - val_accuracy: 0.5083\n"
     ]
    }
   ],
   "source": [
    "history_last23_layer = model_few2_layers.fit(X,Y,batch_size=140,epochs=15,validation_split=0.30,verbose=2)\n",
    "model_few2_layers.save('modelfew2layer.h5')"
   ]
  },
  {
   "cell_type": "code",
   "execution_count": 23,
   "metadata": {},
   "outputs": [],
   "source": [
    "from keras.models import load_model"
   ]
  },
  {
   "cell_type": "code",
   "execution_count": 21,
   "metadata": {},
   "outputs": [],
   "source": [
    "def validate(X,Y):\n",
    "    for x1 in ['modellastlayer.h5','modelfewlayer.h5','modelfew2layer.h5']:\n",
    "        model = load_model(x1)\n",
    "        pred=model.predict(X)\n",
    "        top3=np.argsort(pred)[:,-3:]\n",
    "        actual=np.argmax(Y,axis=1)\n",
    "        res=top3-actual.reshape(-1,1)\n",
    "        ana=np.product(res,axis=1)\n",
    "        print(x1,np.sum(ana==0)/ana.shape[0])"
   ]
  },
  {
   "cell_type": "code",
   "execution_count": 24,
   "metadata": {},
   "outputs": [
    {
     "name": "stdout",
     "output_type": "stream",
     "text": [
      "modellastlayer.h5 0.9047153198982587\n",
      "modelfewlayer.h5 0.9102915280766973\n",
      "modelfew2layer.h5 0.9187047544511837\n"
     ]
    }
   ],
   "source": [
    "validate(X,Y)"
   ]
  },
  {
   "cell_type": "code",
   "execution_count": 25,
   "metadata": {},
   "outputs": [],
   "source": [
    "image1 = load_img('z.jpg',target_size=input_dim)   # This is random image from google and it is of labrador dog\n",
    "image1 = img_to_array(image1)\n",
    "image1 = image.reshape((1,*image1.shape))\n",
    "image1 = preprocess_input(image1)"
   ]
  },
  {
   "cell_type": "code",
   "execution_count": 27,
   "metadata": {},
   "outputs": [],
   "source": [
    "model=load_model('modelfew2layer.h5')"
   ]
  },
  {
   "cell_type": "code",
   "execution_count": 28,
   "metadata": {},
   "outputs": [],
   "source": [
    "res = model.predict(image)"
   ]
  },
  {
   "cell_type": "code",
   "execution_count": 29,
   "metadata": {},
   "outputs": [
    {
     "data": {
      "text/plain": [
       "array([80, 73,  8,  3, 67], dtype=int64)"
      ]
     },
     "execution_count": 29,
     "metadata": {},
     "output_type": "execute_result"
    }
   ],
   "source": [
    "s=np.argsort(res)[0][-5:]\n",
    "s"
   ]
  },
  {
   "cell_type": "code",
   "execution_count": 31,
   "metadata": {},
   "outputs": [
    {
     "data": {
      "text/plain": [
       "array(['norwegian_elkhound', 'maltese_dog', 'basset', 'airedale',\n",
       "       'labrador_retriever'], dtype=object)"
      ]
     },
     "execution_count": 31,
     "metadata": {},
     "output_type": "execute_result"
    }
   ],
   "source": [
    "d3=le.inverse_transform(s)\n",
    "d3"
   ]
  },
  {
   "cell_type": "code",
   "execution_count": 32,
   "metadata": {},
   "outputs": [
    {
     "name": "stdout",
     "output_type": "stream",
     "text": [
      "Your dog on prediction number  1  is: labrador_retriever\n",
      "Your dog on prediction number  2  is: airedale\n",
      "Your dog on prediction number  3  is: basset\n",
      "Your dog on prediction number  4  is: maltese_dog\n",
      "Your dog on prediction number  5  is: norwegian_elkhound\n"
     ]
    }
   ],
   "source": [
    "d4=[ele for ele in reversed(d3)] \n",
    "k=1\n",
    "for x in d4:\n",
    "    print(\"Your dog on prediction number \",k,\" is:\",x)\n",
    "    k+=1"
   ]
  },
  {
   "cell_type": "code",
   "execution_count": null,
   "metadata": {},
   "outputs": [],
   "source": []
  },
  {
   "cell_type": "code",
   "execution_count": null,
   "metadata": {},
   "outputs": [],
   "source": []
  },
  {
   "cell_type": "code",
   "execution_count": null,
   "metadata": {},
   "outputs": [],
   "source": []
  },
  {
   "cell_type": "code",
   "execution_count": null,
   "metadata": {},
   "outputs": [],
   "source": []
  }
 ],
 "metadata": {
  "kernelspec": {
   "display_name": "Python 3",
   "language": "python",
   "name": "python3"
  },
  "language_info": {
   "codemirror_mode": {
    "name": "ipython",
    "version": 3
   },
   "file_extension": ".py",
   "mimetype": "text/x-python",
   "name": "python",
   "nbconvert_exporter": "python",
   "pygments_lexer": "ipython3",
   "version": "3.8.5"
  }
 },
 "nbformat": 4,
 "nbformat_minor": 4
}
